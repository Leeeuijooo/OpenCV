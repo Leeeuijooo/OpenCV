{
 "cells": [
  {
   "cell_type": "code",
   "execution_count": 2,
   "id": "1b5197c6",
   "metadata": {},
   "outputs": [
    {
     "name": "stdout",
     "output_type": "stream",
     "text": [
      "2.0.0\n"
     ]
    }
   ],
   "source": [
    "import tensorflow as tf\n",
    "\n",
    "print(tf.__version__)"
   ]
  },
  {
   "cell_type": "code",
   "execution_count": 3,
   "id": "c182e8c2",
   "metadata": {},
   "outputs": [
    {
     "name": "stderr",
     "output_type": "stream",
     "text": [
      "2022-03-31 23:25:16.078614: I tensorflow/core/platform/cpu_feature_guard.cc:145] This TensorFlow binary is optimized with Intel(R) MKL-DNN to use the following CPU instructions in performance critical operations:  SSE4.1 SSE4.2\n",
      "To enable them in non-MKL-DNN operations, rebuild TensorFlow with the appropriate compiler flags.\n",
      "2022-03-31 23:25:16.079460: I tensorflow/core/common_runtime/process_util.cc:115] Creating new thread pool with default inter op setting: 8. Tune using inter_op_parallelism_threads for best performance.\n"
     ]
    }
   ],
   "source": [
    "import numpy as np\n",
    "\n",
    "model = tf.saved_model.load(\"/Users/euijoolee/Desktop/Python OpenCV/detection/ssd_mobilenet_v2_320x320_coco17_tpu-8/saved_model\")"
   ]
  },
  {
   "cell_type": "code",
   "execution_count": 1,
   "id": "1976fd69",
   "metadata": {},
   "outputs": [
    {
     "name": "stdout",
     "output_type": "stream",
     "text": [
      "4.5.5\n"
     ]
    }
   ],
   "source": [
    "import cv2\n",
    "\n",
    "print(cv2.__version__)"
   ]
  },
  {
   "cell_type": "code",
   "execution_count": 8,
   "id": "8ea9366f",
   "metadata": {},
   "outputs": [],
   "source": [
    "import cv2\n",
    "import numpy as np\n",
    "import tensorflow as tf\n",
    "\n",
    "\n",
    "\n",
    "        \n",
    "\n",
    "model = tf.saved_model.load(\"/Users/euijoolee/Desktop/Python OpenCV/detection/ssd_mobilenet_v2_320x320_coco17_tpu-8/saved_model\")\n",
    "capture = cv2.VideoCapture(\"/Users/euijoolee/Desktop/Python OpenCV/Robin - 21723.mp4\")\n",
    "\n",
    "while True:\n",
    "    ret, frame = capture.read()\n",
    "    \n",
    "    if capture.get(cv2.CAP_PROP_POS_FRAMES) == capture.get(cv2.CAP_PROP_FRAME_COUNT):\n",
    "        break\n",
    "        \n",
    "    \n",
    "    input_img = cv2.cvtColor(frame, cv2.COLOR_BGR2RGB)\n",
    "    input_tensor = tf.convert_to_tensor(input_img)\n",
    "    input_tensor = input_tensor[tf.newaxis,...]\n",
    "    \n",
    "    output_dict=model.signatures[\"serving_default\"](input_tensor)\n",
    "    \n",
    "    classes = output_dict[\"detection_classes\"][0]\n",
    "    scores= output_dict[\"detection_scores\"][0]\n",
    "    boxes= output_dict[\"detection_boxes\"][0]\n",
    "    \n",
    "    height, width, _ = frame.shape\n",
    "    \n",
    "    for idx, score in enumerate(scores):\n",
    "        if score > 0.7:\n",
    "            class_id = int(classes[idx])\n",
    "            box = boxes[idx]\n",
    "            \n",
    "            x1 = int(box[0]*width)\n",
    "            y1 = int(box[1]*height)\n",
    "            x2 = int(box[3]*width)\n",
    "            y2 = int(box[2]*height)\n",
    "            \n",
    "            cv2.rectangle(frame, (x1,y1),(x2,y2), 255,1)\n",
    "            cv2.putText(frame,str(class_id)+ \":\" + str(float(score)), (x1,y1 -5), cv2.FONT_HERSHEY_COMPLEX, 1.5,(0,255,255),1)\n",
    "            \n",
    "            cv2.imshow(\"Object Detecton_label16\", frame)\n",
    "            \n",
    "            if cv2.waitKey(33) == ord(\"q\"):\n",
    "                \n",
    "                break\n",
    "                \n",
    "\n",
    "            \n"
   ]
  },
  {
   "cell_type": "markdown",
   "id": "24cf8ce4",
   "metadata": {},
   "source": [
    "with open(\"/Users/euijoolee/Desktop/Python OpenCV/detection/mscoco_label_map.pbtxt\", \"rt\") as f:\n",
    "    pb_classes = f.read().rstrip(\"\\n\").split(\"\\n\")\n",
    "    classes_label = dict()\n",
    "    \n",
    "    for i in range(0, len(pb_classes),5):\n",
    "        pb_classId = int(re.findall(\"\\d+\",pb_classes[i + 2])[0])\n",
    "        pattern = 'display_name:\"(.*?)\"'\n",
    "        pb_text = re.search(pattern, pb_classes[i+3])\n",
    "        classes_label[pb_classId] = pb_text.group(1)"
   ]
  },
  {
   "cell_type": "code",
   "execution_count": 9,
   "id": "570565b0",
   "metadata": {},
   "outputs": [
    {
     "ename": "UnicodeDecodeError",
     "evalue": "'utf-8' codec can't decode byte 0xd1 in position 8: invalid continuation byte",
     "output_type": "error",
     "traceback": [
      "\u001b[0;31m---------------------------------------------------------------------------\u001b[0m",
      "\u001b[0;31mUnicodeDecodeError\u001b[0m                        Traceback (most recent call last)",
      "\u001b[0;32m/var/folders/8f/lndtqkl90h39ldwfw_hdn3pr0000gn/T/ipykernel_20938/1206063249.py\u001b[0m in \u001b[0;36m<module>\u001b[0;34m\u001b[0m\n\u001b[1;32m      1\u001b[0m \u001b[0;32mwith\u001b[0m \u001b[0mopen\u001b[0m\u001b[0;34m(\u001b[0m\u001b[0;34m\"/Users/euijoolee/Desktop/Python OpenCV/detection/mscoco_label_map.pbtxt\"\u001b[0m\u001b[0;34m,\u001b[0m \u001b[0;34m\"rt\"\u001b[0m\u001b[0;34m)\u001b[0m \u001b[0;32mas\u001b[0m \u001b[0mf\u001b[0m\u001b[0;34m:\u001b[0m\u001b[0;34m\u001b[0m\u001b[0;34m\u001b[0m\u001b[0m\n\u001b[0;32m----> 2\u001b[0;31m     \u001b[0mpb_classes\u001b[0m \u001b[0;34m=\u001b[0m \u001b[0mf\u001b[0m\u001b[0;34m.\u001b[0m\u001b[0mread\u001b[0m\u001b[0;34m(\u001b[0m\u001b[0;34m)\u001b[0m\u001b[0;34m.\u001b[0m\u001b[0mrstrip\u001b[0m\u001b[0;34m(\u001b[0m\u001b[0;34m\"\\n\"\u001b[0m\u001b[0;34m)\u001b[0m\u001b[0;34m.\u001b[0m\u001b[0msplit\u001b[0m\u001b[0;34m(\u001b[0m\u001b[0;34m\"\\n\"\u001b[0m\u001b[0;34m)\u001b[0m\u001b[0;34m\u001b[0m\u001b[0;34m\u001b[0m\u001b[0m\n\u001b[0m\u001b[1;32m      3\u001b[0m     \u001b[0mclasses_label\u001b[0m \u001b[0;34m=\u001b[0m \u001b[0mdict\u001b[0m\u001b[0;34m(\u001b[0m\u001b[0;34m)\u001b[0m\u001b[0;34m\u001b[0m\u001b[0;34m\u001b[0m\u001b[0m\n",
      "\u001b[0;32m~/opt/anaconda3/lib/python3.7/codecs.py\u001b[0m in \u001b[0;36mdecode\u001b[0;34m(self, input, final)\u001b[0m\n\u001b[1;32m    320\u001b[0m         \u001b[0;31m# decode input (taking the buffer into account)\u001b[0m\u001b[0;34m\u001b[0m\u001b[0;34m\u001b[0m\u001b[0;34m\u001b[0m\u001b[0m\n\u001b[1;32m    321\u001b[0m         \u001b[0mdata\u001b[0m \u001b[0;34m=\u001b[0m \u001b[0mself\u001b[0m\u001b[0;34m.\u001b[0m\u001b[0mbuffer\u001b[0m \u001b[0;34m+\u001b[0m \u001b[0minput\u001b[0m\u001b[0;34m\u001b[0m\u001b[0;34m\u001b[0m\u001b[0m\n\u001b[0;32m--> 322\u001b[0;31m         \u001b[0;34m(\u001b[0m\u001b[0mresult\u001b[0m\u001b[0;34m,\u001b[0m \u001b[0mconsumed\u001b[0m\u001b[0;34m)\u001b[0m \u001b[0;34m=\u001b[0m \u001b[0mself\u001b[0m\u001b[0;34m.\u001b[0m\u001b[0m_buffer_decode\u001b[0m\u001b[0;34m(\u001b[0m\u001b[0mdata\u001b[0m\u001b[0;34m,\u001b[0m \u001b[0mself\u001b[0m\u001b[0;34m.\u001b[0m\u001b[0merrors\u001b[0m\u001b[0;34m,\u001b[0m \u001b[0mfinal\u001b[0m\u001b[0;34m)\u001b[0m\u001b[0;34m\u001b[0m\u001b[0;34m\u001b[0m\u001b[0m\n\u001b[0m\u001b[1;32m    323\u001b[0m         \u001b[0;31m# keep undecoded input until the next call\u001b[0m\u001b[0;34m\u001b[0m\u001b[0;34m\u001b[0m\u001b[0;34m\u001b[0m\u001b[0m\n\u001b[1;32m    324\u001b[0m         \u001b[0mself\u001b[0m\u001b[0;34m.\u001b[0m\u001b[0mbuffer\u001b[0m \u001b[0;34m=\u001b[0m \u001b[0mdata\u001b[0m\u001b[0;34m[\u001b[0m\u001b[0mconsumed\u001b[0m\u001b[0;34m:\u001b[0m\u001b[0;34m]\u001b[0m\u001b[0;34m\u001b[0m\u001b[0;34m\u001b[0m\u001b[0m\n",
      "\u001b[0;31mUnicodeDecodeError\u001b[0m: 'utf-8' codec can't decode byte 0xd1 in position 8: invalid continuation byte"
     ]
    }
   ],
   "source": [
    "with open(\"/Users/euijoolee/Desktop/Python OpenCV/detection/mscoco_label_map.pbtxt\", \"rt\") as f:\n",
    "    pb_classes = f.read().rstrip(\"\\n\").split(\"\\n\")\n",
    "    classes_label = dict()"
   ]
  },
  {
   "cell_type": "code",
   "execution_count": null,
   "id": "ea1a95f9",
   "metadata": {},
   "outputs": [],
   "source": []
  }
 ],
 "metadata": {
  "jupytext": {
   "formats": "ipynb,auto:light"
  },
  "kernelspec": {
   "display_name": "Python 3 (ipykernel)",
   "language": "python",
   "name": "python3"
  },
  "language_info": {
   "codemirror_mode": {
    "name": "ipython",
    "version": 3
   },
   "file_extension": ".py",
   "mimetype": "text/x-python",
   "name": "python",
   "nbconvert_exporter": "python",
   "pygments_lexer": "ipython3",
   "version": "3.7.11"
  }
 },
 "nbformat": 4,
 "nbformat_minor": 5
}
